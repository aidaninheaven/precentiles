{
  "metadata": {
    "kernelspec": {
      "name": "xpython",
      "display_name": "Python 3.13 (XPython)",
      "language": "python"
    },
    "language_info": {
      "file_extension": ".py",
      "mimetype": "text/x-python",
      "name": "python",
      "version": "3.13.1"
    }
  },
  "nbformat_minor": 5,
  "nbformat": 4,
  "cells": [
    {
      "id": "828ef2af-f257-445d-8f19-939e21cdea6b",
      "cell_type": "code",
      "source": "import numpy as np\nfrom scipy.stats import mode\n\n\nHarray = np.loadtxt(\"heights.csv\", delimiter=\",\", dtype=str)\n\nheights.sort(reverse = True)\nheights = [float(h) for h in Harray]\n\na = round(np.mean(heights), 2)\nb = round(np.median(heights), 2)\nc = round(mode(heights).mode, 2)\nd = round(np.std(heights), 2)\n\ndef findPercentile(userHeight, data):\n    rank = np.sum(np.array(data) <= userHeight) / len(data) * 100\n    return round(rank, 0)\n\nuserHeight = float(input(\"Enter your height (in inches): \"))\npercentileRank = findPercentile(userHeight, heights)\nprint(f\"Your height of {userHeight} inches is at the {percentileRank}th percentile.\")\n",
      "metadata": {
        "trusted": true
      },
      "outputs": [
        {
          "output_type": "stream",
          "name": "stdin",
          "text": "Enter your height (in inches):  o\n"
        },
        {
          "ename": "<class 'ValueError'>",
          "evalue": "could not convert string to float: 'o'",
          "traceback": [
            "\u001b[31m---------------------------------------------------------------------------\u001b[39m",
            "\u001b[31mValueError\u001b[39m                                Traceback (most recent call last)",
            "\u001b[36mCell\u001b[39m\u001b[36m \u001b[39m\u001b[32mIn[13]\u001b[39m\u001b[32m, line 19\u001b[39m\n\u001b[32m     16\u001b[39m     rank = np.sum(np.array(data) <= userHeight) / \u001b[38;5;28mlen\u001b[39m(data) * \u001b[32m100\u001b[39m\n\u001b[32m     17\u001b[39m     \u001b[38;5;28;01mreturn\u001b[39;00m \u001b[38;5;28mround\u001b[39m(rank, \u001b[32m0\u001b[39m)\n\u001b[32m---> \u001b[39m\u001b[32m19\u001b[39m userHeight = \u001b[38;5;28;43mfloat\u001b[39;49m\u001b[43m(\u001b[49m\u001b[38;5;28;43minput\u001b[39;49m\u001b[43m(\u001b[49m\u001b[33;43m\"\u001b[39;49m\u001b[33;43mEnter your height (in inches): \u001b[39;49m\u001b[33;43m\"\u001b[39;49m\u001b[43m)\u001b[49m\u001b[43m)\u001b[49m\n\u001b[32m     20\u001b[39m percentileRank = findPercentile(userHeight, heights)\n\u001b[32m     21\u001b[39m \u001b[38;5;28mprint\u001b[39m(\u001b[33mf\u001b[39m\u001b[33m\"\u001b[39m\u001b[33mYour height of \u001b[39m\u001b[38;5;132;01m{\u001b[39;00muserHeight\u001b[38;5;132;01m}\u001b[39;00m\u001b[33m inches is at the \u001b[39m\u001b[38;5;132;01m{\u001b[39;00mpercentileRank\u001b[38;5;132;01m}\u001b[39;00m\u001b[33mth percentile.\u001b[39m\u001b[33m\"\u001b[39m)\n",
            "\u001b[31mValueError\u001b[39m: could not convert string to float: 'o'"
          ],
          "output_type": "error"
        }
      ],
      "execution_count": 13
    },
    {
      "id": "4a8c5e64-cfb6-40d2-95ea-c7eb6fe1a38c",
      "cell_type": "code",
      "source": "",
      "metadata": {
        "trusted": true
      },
      "outputs": [],
      "execution_count": null
    }
  ]
}