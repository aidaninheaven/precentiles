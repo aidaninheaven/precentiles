{
  "metadata": {
    "kernelspec": {
      "name": "xpython",
      "display_name": "Python 3.13 (XPython)",
      "language": "python"
    },
    "language_info": {
      "file_extension": ".py",
      "mimetype": "text/x-python",
      "name": "python",
      "version": "3.13.1"
    }
  },
  "nbformat_minor": 5,
  "nbformat": 4,
  "cells": [
    {
      "id": "828ef2af-f257-445d-8f19-939e21cdea6b",
      "cell_type": "code",
      "source": "import numpy as np\nfrom scipy.stats import mode\n\nHarray = np.loadtxt(\"heights.csv\", delimiter=\",\", dtype=str)\n\nheights.sort(reverse = True)\nheights = [float(h) for h in Harray]\n\n\ndef findPercentile(userHeight, data):\n    rank = np.sum(np.array(data) <= userHeight) / len(data) * 100\n    return round(rank, 0)\n\nuserHeight = float(input(\"Enter your height (in inches): \"))\npercentileRank = findPercentile(userHeight, heights)\nprint(f\"Your height of {userHeight} inches is at the {percentileRank}th percentile.\")\n",
      "metadata": {
        "trusted": true
      },
      "outputs": [
        {
          "output_type": "stream",
          "name": "stdin",
          "text": "Enter your height (in inches):  69.0625\n"
        },
        {
          "name": "stdout",
          "output_type": "stream",
          "text": "Your height of 69.0625 inches is at the 71.0th percentile.\n"
        }
      ],
      "execution_count": 15
    },
    {
      "id": "4a8c5e64-cfb6-40d2-95ea-c7eb6fe1a38c",
      "cell_type": "code",
      "source": "",
      "metadata": {
        "trusted": true
      },
      "outputs": [],
      "execution_count": null
    }
  ]
}